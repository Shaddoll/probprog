{
 "cells": [
  {
   "cell_type": "markdown",
   "metadata": {},
   "source": [
    "# Topic Clustering with LDA and Gaussian LDA\n",
    "*Zijian Chen zc2386*  \n",
    "*Yiran Wang yw3201*  \n",
    "*Columbia University*\n",
    "## 1. Introduction\n",
    "**GOAL**  \n",
    "The goal in modeling a large corpus of discrete documents is to find the latent clustering pattern of those documents as we assume that each document has a probability distribution over certain number of topics, and the words in each documents are drawn from documents‘ topic distribution. It is hard because we are not sure about the word distribution whether they are discrete or continuous, nor do we have any information about the number of topics in many cases.  \n",
    "**DATA**  \n",
    "To solve topic clustering problem we access NIPS corpus data NIPS12."
   ]
  },
  {
   "cell_type": "code",
   "execution_count": 1,
   "metadata": {},
   "outputs": [],
   "source": [
    "import sys\n",
    "import numpy as np\n",
    "import tensorflow as tf\n",
    "import edward as ed\n",
    "import glob\n",
    "import pickle\n",
    "import time\n",
    "\n",
    "if '../' not in sys.path:\n",
    "    sys.path.append('../')\n",
    "\n",
    "from models.lda import LDA\n",
    "from models.lda import GaussianLDA\n"
   ]
  },
  {
   "cell_type": "markdown",
   "metadata": {},
   "source": [
    "## 2. LDA Model "
   ]
  },
  {
   "cell_type": "markdown",
   "metadata": {},
   "source": [
    "### 2.1 Modeling [Blei et al. (2003)](http://www.jmlr.org/papers/volume3/blei03a/blei03a.pdf)\n",
    "LDA assumes the words in every documents are exchangeable, and each of which is a multinomial distribution over vocabularies of size $V$. The likelihood of a corpus $\\mathbf{D}$ contains $D$ documents is given as following:  \n",
    "\\begin{align}\n",
    "\tp(\\mathbf{D}; \\alpha, \\beta)=p(\\theta, \\beta, z, w)&=\\prod_{k=1}^{K} p(\\beta_{k};\\eta)\\prod_{d=1}^{D} p(\\theta_{d} ; \\alpha)(\\prod_{n=1}^{N}p(z_{dn} | \\theta_{d})p(w_{dn} |z_{dn},\\beta_{z_{dn}})\\\\\n",
    "\t&= \\prod_{k=1}^{K} p(\\beta_{k};\\eta)\\prod_{d=1}^{D}p(\\theta_{d} ; \\alpha)(\\prod_{n=1}^{N}\\theta_{z_{dn}}f(w_{dn};\\beta_{z_{dn}}))\n",
    "\\end{align}\n",
    "    \n",
    "**Nodes/Parameter description:** \n",
    "* $\\alpha, \\eta$: dirichlet hyper parameter.  \n",
    "* $\\theta_{d}$: global latent variable, per-doc topic proportions; $\\theta_{d}$ $\\in$ $R^{k}$. $k$ dimensional Dir. random variable $\\theta$ can take values in (k-1)-simplex with $p.d.f$ $p(\\theta | \\alpha)=\\dfrac{\\Gamma(\\sum_{i=1}^{k}\\alpha_{i})}{\\prod_{i=1}^{k}\\Gamma(\\alpha_{i})}\\theta_{1}^{\\alpha_{1}-1} \\cdots \\theta_{k}^{\\alpha_{k}-1} $.\n",
    "* $Z_{dn}$: local latent variables, topic assignment drawn from distribution $\\theta_{d}$, which takes values from {1, 2 .... k}\n",
    "* $\\beta_{z_{dn}}$: global latent variables, topic's distribution over words; per-corpus topic distribution.\n",
    "* $W_{dn}$: observed variables, $(v-1)-$simplex, where $v$ is the vocabulary size. Observed $n^{th}$ word from $d^{th}$ document.\n",
    "\n",
    "As shown in the graph below, the **LDA generative process** is as following:  \n",
    "1. For each topic $k \\in \\{1, 2, ..., K\\}$, draw $\\beta_{k} \\sim Dirichlet(\\eta)$  \n",
    "2. For each document $d \\in \\{1, 2, ...,D\\}$:  \n",
    "    a) Draw $\\theta_{d} \\sim Dirichlet (\\alpha)$  \n",
    "    b) For each word $w_{n}$, $n \\in \\{1, 2, ..., N_{d}\\}$ in document $d$:  \n",
    "    * Draw $z_{dn} \\sim Categorical(\\theta_{d})$.  \n",
    "    * Generate word $w_{dn}\\sim p(w_{dn} | z_{dn}, \\beta_{z_{dn}})$, a categorical probability conditioned on the topic $z_{dn}$.  "
   ]
  },
  {
   "cell_type": "markdown",
   "metadata": {},
   "source": [
    "<img src=\"LDABlei.jpg\" width=\"600\"/>"
   ]
  },
  {
   "cell_type": "markdown",
   "metadata": {},
   "source": [
    "### 2.2 Collapsed Gibbs Sampling Inference for LDA (MCMC) \n",
    "\n",
    "We planned to implement the **Black Box variational inference** method (klqp method) in Edward at the very beginning, however if we include all parameters $\\theta$, $z$, and $\\beta$ for the posterior inference, the result cannot converge. Because KLqp has poor performance at approximating the Dirichlet distribution, especially if we have full-rank covariances for the mixture components. This problem is partially due to the high variance in the vanilla version of BBVI.  \n",
    "In addition, because of the slow convergence of **Gibbs Sampling** inference of LDA, we implemented the **Collapsed Gibbs Sampling** Inference instead [Griffiths et al. (2004).](http://www.pnas.org/content/pnas/101/suppl_1/5228.full.pdf). Since we are only interested in the posterior distribution over the assignment of words in $k$ topics, we are able to not explicitly express the posterior estimation of $\\theta$ and $\\beta$.   \n",
    "In Monte Carlo Markov Chain, we construct a Markov chain on latent variables which converges to a stationary distribution. This would be used for the estimation of the posterior distribution. In order to draw sample at the time t, we need to construct the complete conditional distribution of latent variables, $p(z_{d,i}|\\mathbf{z}_{d,-i}, \\mathbf{w})$ in this algorithm. Taking the advantage of the conjugate conditional family, the probability distribution can be expressed as: \n",
    "\\begin{align}\n",
    " \tp(z_{i}=j|\\mathbf{z}_{d,-i}, \\mathbf{w}) & \\propto \\frac{n_{d,-i,j}^{(w_{d,i}) }+ \\eta}{n_{d,-i,j}^{(.)} + V\\eta} \\frac{n_{d,-i,j}^{(d)}+\\alpha}{n_{d,-i,.}^{(d)}+k\\alpha}\n",
    "\\end{align}\n",
    "The first fraction express the probability of $w_{d,i}$ under topic $j$, and the second term expresses the probability of topic $j$ document $d_{i}$. The notations are defined as follows:\n",
    "* $n_{d, -i,j}^{(w_{i})}$ is the number of times this $i^{th}$ observed word is assigned to topic $j$ while not including the current assignment $z_{d,i}$ in document $d$.  \n",
    "* $n_{d, -i,j}^{(.)}$ is the number of times a word from document $d$ is assigned to topic $j$ while not including the current assignment $z_{d,i}$.  \n",
    "* $n_{d, -i,j}^{(d)}$ is the number of times a word from document $d$ is assigned to topic $j$ while not including the current assignment $z_{d, i}$.\n",
    "* $n_{d, -i,.}^{(d)}$ is the number words in document $d$ while not including the current assignment $z_{d, i}$.\n",
    "* $V$ is the vocabulary size, and $k$ is the number of topics defined at the very beginning.  \n",
    "\n",
    "With the set of samples $(S=200)$ drawn after burn-in period $(T=500)$, we can evaluate $\\theta$ and $\\beta$ by integrating across the full set of samples as follows:\n",
    " \\begin{align}\n",
    " \t\\hat{\\beta_{j}^{(w)}} &= \\frac{n_{j}^{(w)} + \\eta}{n_{j}^{(.)}+V\\eta}\\\\\n",
    " \t\\hat{\\theta_{j}^{(d)}} &= \\frac{\\theta_{j}^{(d)} + \\alpha}{n_{.}^{(d)}+k\\alpha}\n",
    " \\end{align}"
   ]
  },
  {
   "cell_type": "markdown",
   "metadata": {},
   "source": [
    "### 2.3 Criticism for LDA"
   ]
  },
  {
   "cell_type": "markdown",
   "metadata": {},
   "source": [
    "**Experiment**  \n",
    "Due to the duration of running time, we run our model of 2-year NIPS documents (year 2012 and year 2011) and for each document, we extracted the abstract part which summarizes the entire document. Furthermore, we did the NLP preprocessing of the input: removed punctuation and the stop words, changed words into lowercase, and stemmed the words with [ntlk](https://www.nltk.org/). We initialize the hyper-parameters $\\alpha = 0.1$ and $\\eta = 0.01$. There are nine major academic subject areas for NIPS: *Algorithm*, *Application*, *Data Competition, Implementation and Software*, *Deep Learning*, *Neuroscience and Cognitive science*, *Optimization*, *Probabilistic Methods*, *Reinforcement Learning & Planning*, and *Theory*, therefore we set $k=9$."
   ]
  },
  {
   "cell_type": "code",
   "execution_count": 6,
   "metadata": {},
   "outputs": [
    {
     "name": "stdout",
     "output_type": "stream",
     "text": [
      "number of documents, D: 20\n",
      "load../DataPreprocess/nipstxt/nipstoy20/doc_short_wID_12_0024.txtfinished\n",
      "load../DataPreprocess/nipstxt/nipstoy20/doc_short_wID_12_0031.txtfinished\n",
      "load../DataPreprocess/nipstxt/nipstoy20/doc_short_wID_12_0136.txtfinished\n",
      "load../DataPreprocess/nipstxt/nipstoy20/doc_short_wID_12_0122.txtfinished\n",
      "load../DataPreprocess/nipstxt/nipstoy20/doc_short_wID_12_0080.txtfinished\n",
      "load../DataPreprocess/nipstxt/nipstoy20/doc_short_wID_12_0096.txtfinished\n",
      "load../DataPreprocess/nipstxt/nipstoy20/doc_short_wID_12_0108.txtfinished\n",
      "load../DataPreprocess/nipstxt/nipstoy20/doc_short_wID_12_0045.txtfinished\n",
      "load../DataPreprocess/nipstxt/nipstoy20/doc_short_wID_12_0052.txtfinished\n",
      "load../DataPreprocess/nipstxt/nipstoy20/doc_short_wID_12_0103.txtfinished\n",
      "load../DataPreprocess/nipstxt/nipstoy20/doc_short_wID_12_0089.txtfinished\n",
      "load../DataPreprocess/nipstxt/nipstoy20/doc_short_wID_12_0129.txtfinished\n",
      "load../DataPreprocess/nipstxt/nipstoy20/doc_short_wID_12_0115.txtfinished\n",
      "load../DataPreprocess/nipstxt/nipstoy20/doc_short_wID_12_0059.txtfinished\n",
      "load../DataPreprocess/nipstxt/nipstoy20/doc_short_wID_12_0066.txtfinished\n",
      "load../DataPreprocess/nipstxt/nipstoy20/doc_short_wID_12_0073.txtfinished\n",
      "load../DataPreprocess/nipstxt/nipstoy20/doc_short_wID_12_0017.txtfinished\n",
      "load../DataPreprocess/nipstxt/nipstoy20/doc_short_wID_12_0003.txtfinished\n",
      "load../DataPreprocess/nipstxt/nipstoy20/doc_short_wID_12_0010.txtfinished\n",
      "load../DataPreprocess/nipstxt/nipstoy20/doc_short_wID_12_0038.txtfinished\n",
      "vocab size is 632\n",
      "load wordToI finished\n"
     ]
    }
   ],
   "source": [
    "datafile = \"../DataPreprocess/nipstxt/nipstoy20/doc_short_wID_12_*.txt\"\n",
    "txt_files = glob.glob(datafile)\n",
    "D = len(txt_files)  # number of documents\n",
    "print(\"number of documents, D: {}\".format(D))\n",
    "\n",
    "N = [0] * D  # words per doc\n",
    "K = 9  # number of topics\n",
    "T = 300 # samples drawn in the burnin period\n",
    "S = 200 # samples collected for collapsed gibbs sampling\n",
    "\n",
    "wordIds = [None] * D\n",
    "count = 0  # count number of documents\n",
    "for file in (txt_files):\n",
    "    with open(file, 'rt', encoding=\"ISO-8859-1\") as f:\n",
    "        wordIds[count] = list(map(int, f.readline().split()))\n",
    "        N[count] = len(wordIds[count])\n",
    "        wordIds[count] = np.array(wordIds[count]).astype('int32')\n",
    "    print(\"load\" + file + \"finished\")\n",
    "    count += 1\n",
    "IdtoWord = {}\n",
    "vocab = set()\n",
    "\n",
    "with open(\"../DataPreprocess/wordToID_short_12_20.txt\") as f:\n",
    "    for line in f:\n",
    "        line = line.split()\n",
    "        IdtoWord[int(line[1])] = line[0]\n",
    "        vocab.add(line[0])\n",
    "V = len(vocab)  # vocabulary size21\n",
    "tokens = [None] * V\n",
    "for key in IdtoWord:\n",
    "    tokens[key] = IdtoWord[key]\n",
    "print(\"vocab size is {}\".format(V))\n",
    "print(\"load wordToI finished\")"
   ]
  },
  {
   "cell_type": "markdown",
   "metadata": {},
   "source": [
    "**PMI Evaluation for Top Words**  [Bouma (2009)](https://svn.spraakdata.gu.se/repos/gerlof/pub/www/Docs/npmi-pfd.pdf)  \n",
    "Point-wise mutual information (PMI) is a measure of how much the actual probability of a particular co-occurrence of events $p(x, y)$ differs from what we would expect it to be on the basis of the probabilities of the individual events $p(x)$ and $p(y)$. Also, the calculation based on the independent assumption of $x$ and $y$ is given as:\n",
    "\\begin{align}\n",
    " \tpmi (x, y) = \\ln \\frac{p(x,y)}{p(x)p(y)}\n",
    "\\end{align} \n",
    "The joint probability is estimated by the time we see both words in a 20-length sliding window over the entire corpus. The results are shown here,"
   ]
  },
  {
   "cell_type": "code",
   "execution_count": null,
   "metadata": {},
   "outputs": [],
   "source": [
    "model = LDA(K, V, D, N)\n",
    "print(\"model constructed\")\n",
    "model.collapsed(wordIds, S, T, tokens)"
   ]
  },
  {
   "cell_type": "code",
   "execution_count": null,
   "metadata": {},
   "outputs": [],
   "source": [
    "print(time.time() - t1)\n",
    "model.getTopWords(wordVec, tokens)\n",
    "print(\"get top words finished\")\n",
    "print(time.time() - t1)\n",
    "comatrix = pickle.load(open(\"DataPreprocess/comatrix1y.pickle\", \"rb\"))\n",
    "model.getPMI(comatrix)\n",
    "print(time.time() - t1)"
   ]
  },
  {
   "cell_type": "markdown",
   "metadata": {},
   "source": [
    "<img src=\"LDA2y_results.jpg\" width=\"950\"/>"
   ]
  },
  {
   "cell_type": "markdown",
   "metadata": {},
   "source": [
    "## 3. Gaussian LDA Model "
   ]
  },
  {
   "cell_type": "markdown",
   "metadata": {},
   "source": [
    "### 3.1 Modeling  [Das et al. (2015)](http://www.aclweb.org/anthology/P15-1077) \n",
    "Instead of generating words from categorical distribution, Gaussian LDA integrates the word embedding that aims at capturing more semantic regularities in language and generates words from multivariate Gaussian distributions. The observed words input are pre-trained word2vec embedding vectors with fixed dimensions [gensim](https://radimrehurek.com/gensim/models/word2vec.html). Our model used 25 dimensional word embeddings instead of the pre-defined 100 dimension due to the feasibility and running time while implementing on Edward.  \n",
    "The likelihood of a corpus $\\mathbf{D}$ contains $D$ documents is given as following:\n",
    "\\begin{align}\n",
    "p(\\mathbf{D}; \\alpha, \\beta)=\\prod_{k=1}^{K} p(\\Sigma_{k}|\\Psi, v)p(\\mu_{k}|\\mu_{0}, \\Sigma_{k})\\prod_{d=1}^{D} p(\\theta_{d} | \\alpha)(\\prod_{n=1}^{N}p(z_{dn} | \\theta_{d})p(w_{dn} |z_{dn},\\Sigma_{z_{dn}},\\mu_{z_{dn}}))\n",
    "\\end{align}"
   ]
  },
  {
   "cell_type": "markdown",
   "metadata": {},
   "source": [
    "**Nodes Decription**  \n",
    "* $ \\psi, v$: Inverse Wishart distribution hyper parameter\t\n",
    "* $\\mu_{0}$: Gaussian distribution hyper parameter\t\n",
    "* $\\Sigma_{z_{dn}}$: global latent variable, per-topic covariance matrix for Multivariate Gaussian distribution of words.\t\n",
    "* $\\mu_{z_{dn}}$: global latent variable, per-topic mean vector for Multivariate Gaussian distribution of words.  \n",
    "\n",
    "**Gaussian-LDA generative process:** \n",
    "1. For each topic $k \\in \\{1, 2, ..., K\\}$:  \n",
    "    a) Draw topic covariance matrix $\\Sigma_{k} \\sim W(\\Psi, v)$  \n",
    "    b) Draw topic mean $\\mu_{k} \\sim N(\\mu_{0}, I_{k})$  \n",
    "2. For each document $d \\in \\{1, 2, ...,D\\}$ in corpus:  \n",
    "    a) Draw topic distribution $\\theta_{d} \\sim Dirichlet (\\alpha)$  \n",
    "    b) For each word $w_{n}$, $n \\in \\{1, 2, ..., N_{d}\\}$ in document $d$:    \n",
    "    * Draw $z_{dn} \\sim Categorical(\\theta_{d})$.  \n",
    "    * Draw word $w_{dn}\\sim N(\\mu_{z_{dn}}, \\Sigma_{z_{dn}})$. "
   ]
  },
  {
   "cell_type": "markdown",
   "metadata": {},
   "source": [
    "<img src=\"GaussianLDA.png\" width=\"400\"/>"
   ]
  },
  {
   "cell_type": "markdown",
   "metadata": {},
   "source": [
    "### 3.2 Black Box Variational Inference for Gaussian LDA  \n",
    "Paper [Das et al. (2015)](http://www.aclweb.org/anthology/P15-1077) provides the Collapsed Gibbs Sampling posterior inference method for Gaussian LDA, however Collapsed Gibbs Sampling does not work with mixture random variables. With the blessing of the conjugate priors for topic proportions, we can integrate them out during the inference as we got rid of the Dirichlet distribution in klqp implementation in Edward. The variational distribution for $\\mu$ and $\\Sigma$ are that same distribution as the prior while taking the independence assumption."
   ]
  },
  {
   "cell_type": "code",
   "execution_count": null,
   "metadata": {},
   "outputs": [],
   "source": [
    "t1 = time.time()\n",
    "datafile = \"../DataPreprocess/nips12we25/short_wordembed_*.txt\"\n",
    "txt_files = glob.glob(datafile)\n",
    "D = len(txt_files)  # number of documents\n",
    "print(\"number of documents, D: {}\".format(D))\n",
    "N = [0] * D  # words per doc\n",
    "K = 9  # number of topics\n",
    "T = 100 #Burn-in \n",
    "S = 10\n",
    "wordIds = [None] * D\n",
    "count = 0  # count number of documents\n",
    "for file in (txt_files):\n",
    "    with open(file, 'rt', encoding=\"ISO-8859-1\") as f:\n",
    "        vec = []\n",
    "        for line in f:\n",
    "            vec.append(list(map(float, line.split())))\n",
    "        N[count] = len(vec)\n",
    "        wordIds[count] = vec\n",
    "    print(\"load\" + file + \"finished\")\n",
    "    count += 1\n",
    "nu = len(wordIds[0][0])\n",
    "print(\"dimension:\", nu)\n",
    "\n",
    "wordToId = dict()\n",
    "tokens = []\n",
    "# with open(\"DataPreprocess/wordToID_short_12.txt\") as f:\n",
    "with open(\"DataPreprocess/wordToID_short_12_20.txt\") as f:\n",
    "    for line in f:\n",
    "        line = line.split()\n",
    "        wordToId[line[0]] = len(tokens)\n",
    "        tokens.append(line[0])\n",
    "V = len(tokens)  # vocabulary size21\n",
    "print(\"vocab size is {}\".format(V))\n",
    "print(\"load wordId finished\")\n",
    "\n",
    "wordVec = [None] * V\n",
    "# with open(\"DataPreprocess/word_vectors_25.txt\") as f:\n",
    "with open(\"DataPreprocess/we_12_20.txt\") as f:\n",
    "    for line in f:\n",
    "        line = line.split()\n",
    "        if line[0] in wordToId:\n",
    "            wordVec[wordToId[line[0]]] = list(map(float, line[1:]))\n",
    "print(\"load word embeddings finished\")\n",
    "D = 20\n",
    "\n",
    "model = GaussianLDA(K, D, N, nu)\n",
    "print(\"model constructed\")\n",
    "model.klqp(wordIds, S, T, wordVec)\n",
    "print(\"inference finished\")"
   ]
  },
  {
   "cell_type": "markdown",
   "metadata": {},
   "source": [
    "### 3.3 Criticism for Gaussian LDA \n",
    "The top words for each topic and corresponding pmi is shown in the following chart. We can see improvement in pmi score as the average pmi changes from 0.203 to 1.58 with more topic interpretability."
   ]
  },
  {
   "cell_type": "code",
   "execution_count": null,
   "metadata": {},
   "outputs": [],
   "source": [
    "print(time.time() - t1)\n",
    "model.getTopWords(wordVec, tokens)\n",
    "print(\"get top words finished\")\n",
    "print(time.time() - t1)\n",
    "comatrix = pickle.load(open(\"20abstract1yearAll.pickle\", \"rb\"))\n",
    "# comatrix = pickle.load(open(\"DataPreprocess/comatrix1y.pickle\", \"rb\"))\n",
    "model.getPMI(comatrix)\n",
    "print(time.time() - t1)"
   ]
  },
  {
   "cell_type": "markdown",
   "metadata": {},
   "source": [
    "<img src=\"GLDA50v2.jpg\" width=\"950\"/>"
   ]
  },
  {
   "cell_type": "markdown",
   "metadata": {},
   "source": [
    "### *References*\n",
    "* [Blei, D. M., Ng, A. Y., and Jordan, M. I. (2003).](http://www.jmlr.org/papers/volume3/blei03a/blei03a.pdf) Latent dirichlet allocation. Journal of machine Learning research, 3(Jan):993–1022. \n",
    "* [Bouma, G. (2009).](https://svn.spraakdata.gu.se/repos/gerlof/pub/www/Docs/npmi-pfd.pdf) Normalized (pointwise) mutual information in collocation extraction. Proceedings of GSCL, 31-40.\n",
    "* [Das, R., Zaheer, M., and Dyer, C. (2015).](http://www.aclweb.org/anthology/P15-1077) Gaussian lda for topic models with word embeddings. In Proceedings of the 53rd Annual Meeting of the Association for Computational Linguistics and the 7th International Joint Conference on Natural Language Processing (Volume 1: Long Papers), volume 1, pages 795–804.\n",
    "* [Griffiths, T. L., & Steyvers, M. (2004).](http://www.pnas.org/content/pnas/101/suppl_1/5228.full.pdf) Finding scientific topics. Proceedings of the National academy of Sciences, 101(suppl 1), 5228-5235.\n"
   ]
  },
  {
   "cell_type": "code",
   "execution_count": null,
   "metadata": {},
   "outputs": [],
   "source": []
  }
 ],
 "metadata": {
  "kernelspec": {
   "display_name": "probrequire",
   "language": "python",
   "name": "pprequire"
  },
  "language_info": {
   "codemirror_mode": {
    "name": "ipython",
    "version": 3
   },
   "file_extension": ".py",
   "mimetype": "text/x-python",
   "name": "python",
   "nbconvert_exporter": "python",
   "pygments_lexer": "ipython3",
   "version": "3.6.7"
  }
 },
 "nbformat": 4,
 "nbformat_minor": 2
}
