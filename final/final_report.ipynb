{
 "cells": [
  {
   "cell_type": "markdown",
   "metadata": {},
   "source": [
    "# Topic Clustering with LDA and Gaussian LDA\n",
    "*Zijian Chen zc2386*  \n",
    "*Yiran Wang yw3201*  \n",
    "*Columbia University*\n",
    "## 1. Introduction\n",
    "**GOAL**  \n",
    "The goal in modeling a large corpus of discrete documents is to find the latent clustering pattern of those documents as we assume that each document has a probability distribution over certain number of topics, and the words in each documents are drawn from document’s topic distribution. It is hard because we are not sure about the word distribution whether they are discrete or continuous, nor do we have any information about the number of topics in many cases.  \n",
    "**DATA**  \n",
    "To solve topic clustering problem we access NIPS corpus data NIPS12."
   ]
  },
  {
   "cell_type": "code",
   "execution_count": null,
   "metadata": {},
   "outputs": [],
   "source": [
    "import sys\n",
    "import numpy as np\n",
    "import tensorflow as tf\n",
    "import edward as ed\n",
    "import glob\n",
    "import pickle\n",
    "import time\n",
    "\n",
    "if '../src' not in sys.path:\n",
    "    sys.path.append('../src')\n",
    "\n",
    "from lda import LDA\n",
    "from lda import GaussianLDA\n"
   ]
  },
  {
   "cell_type": "markdown",
   "metadata": {},
   "source": [
    "## 2. LDA Model "
   ]
  },
  {
   "cell_type": "markdown",
   "metadata": {},
   "source": [
    "### 2.1 Modeling [Blei et al. (2003)](http://www.jmlr.org/papers/volume3/blei03a/blei03a.pdf)\n",
    "LDA assumes the words in every documents are exchangeable, and each of which is a multinomial distribution over vocabularies of size $V$. The likelihood of a corpus $\\mathbf{D}$ contains $D$ documents is given as following:  \n",
    "\\begin{align}\n",
    "\tp(\\mathbf{D}; \\alpha, \\beta)=p(\\theta, \\beta, z, w)&=\\prod_{k=1}^{K} p(\\beta_{k};\\eta)\\prod_{d=1}^{D} p(\\theta_{d} ; \\alpha)(\\prod_{n=1}^{N}p(z_{dn} | \\theta_{d})p(w_{dn} |z_{dn},\\beta_{z_{dn}})\\\\\n",
    "\t&= \\prod_{k=1}^{K} p(\\beta_{k};\\eta)\\prod_{d=1}^{D}p(\\theta_{d} ; \\alpha)(\\prod_{n=1}^{N}\\theta_{z_{dn}}f(w_{dn};\\beta_{z_{dn}}))\n",
    "\\end{align}\n",
    "    \n",
    "**Nodes/Parameter description: ** \n",
    "* $\\alpha, \\eta$: dirichlet hyper parameter.  \n",
    "* $\\theta_{d}$: global latent variable, per-doc topic proportions; $\\theta_{d}$ $\\in$ $R^{k}$. $k$ dimensional Dir. random variable $\\theta$ can take values in (k-1)-simplex with $p.d.f$ $p(\\theta | \\alpha)=\\dfrac{\\Gamma(\\sum_{i=1}^{k}\\alpha_{i})}{\\prod_{i=1}^{k}\\Gamma(\\alpha_{i})}\\theta_{1}^{\\alpha_{1}-1} \\cdots \\theta_{k}^{\\alpha_{k}-1} $.\n",
    "* $Z_{dn}$: local latent variables, topic assignment drawn from distribution $\\theta_{d}$, which takes values from {1, 2 .... k}\n",
    "* $\\beta_{z_{dn}}$: global latent variables, topic's distribution over words; per-corpus topic distribution.\n",
    "* $W_{dn}$: observed variables, $(v-1)-$simplex, where $v$ is the vocabulary size. Observed $n^{th}$ word from $d^{th}$ document.\n",
    "\n",
    "As shown in the graph below, the **LDA generative process** is as following:  \n",
    "1. For each topic $k \\in \\{1, 2, ..., K\\}$, draw $\\beta_{k} \\sim Dirichlet(\\eta)$  \n",
    "2. For each document $d \\in \\{1, 2, ...,D\\}$:  \n",
    "    a) Draw $\\theta_{d} \\sim Dirichlet (\\alpha)$  \n",
    "    b) For each word $w_{n}$, $n \\in \\{1, 2, ..., N_{d}\\}$ in document $d$:  \n",
    "    * Draw $z_{dn} \\sim Categorical(\\theta_{d})$.  \n",
    "    * Generaste word $w_{dn}\\sim p(w_{dn} | z_{dn}, \\beta_{z_{dn}})$, a categorical probability conditioned on the topic $z_{dn}$.  "
   ]
  },
  {
   "cell_type": "markdown",
   "metadata": {},
   "source": [
    "<img src=\"LDABlei.jpg\" width=\"600\"/>"
   ]
  },
  {
   "cell_type": "code",
   "execution_count": null,
   "metadata": {},
   "outputs": [],
   "source": []
  },
  {
   "cell_type": "markdown",
   "metadata": {},
   "source": [
    "### 2.2 Collapsed Gibbs Sampling Inference for LDA (MCMC) \n",
    "\n",
    "We planned to implement the **Black Box variational inference** method (klqp method) in Edward at the very beginning, however if we include all parameters $\\theta$, $z$, and $\\beta$ for the posterior inference, the result cannot converge. Because KLqp has poor performance at approximating the Dirichlet distribution, especially if we have full-rank covariances for the mixture components. This problem is partially due to the high variance in the vanilla version of BBVI.  \n",
    "In addtion, because of the slow convergence of **Gibbs Sampling** inference of LDA, we implemented the **Collapsed Gibbs Sampling** Inference instead [Das et al. (2015)](http://www.aclweb.org/anthology/P15-1077). Since we are only interested in the posterior distribution over the assignment of words in $k$ topics, we are able to not explicitly express the posterior estimation of $\\theta$ and $\\beta$.   \n",
    "In Monte Carlo Markov Chain, we construct a Markov chain on latent variables which converges to a strationary distribution. This would be used for the esitmation of the posterior distribution. In order to draw sample at the time t, we need to construct the complete conditional distribution of latent variables, $p(z_{i}|\\mathbf{z}_{-i}, \\mathbf{w})$ in this algorithm. Taking the advantage of the conjugate conditional family, the probability distribution can be expressed as: \n",
    "\\begin{align}\n",
    " \tp(z_{i}=j|\\mathbf{z}_{-i}, \\mathbf{w}) & \\propto \\frac{n_{-i,j}^{(w_{i}) }+ \\eta}{n_{-i,j}^{(.)} + V\\eta} \\frac{n_{-i,j}^{(d_{i})}+\\alpha}{n_{-i,.}^{(d_{i})}+k\\alpha}\n",
    "\\end{align}\n",
    "The first fraction express the probability of $w_{i}$ under topic $j$, and the second term expresses the proability of topic $j$ document $d_{i}$. The notations are defined as follows:\n",
    "* $n_{-i,j}^{(w_{i})}$ is the number of times this $i^{th}$ observed word is assigned to topic $j$ while not including the current assignment $z_{i}$.  \n",
    "* $n_{-i,j}^{(.)}$ is the number of times a word from document $d_{i}$ is assigned to topic $j$ while not including the current assignment $z_{i}$.  \n",
    "* $n_{-i,j}^{(d_{i})}$ is the number of times a word from document $d_{i}$ is assigned to topic $j$ while not including the current assignment $z_{i}$.\n",
    "* $n_{-i,.}^{(d_{i})}$ is the number words in document $d_{i}$ while not including the current assignment $z_{i}$.\n",
    "* $V$ is the vocabulary size, and $k$ is the number of topics defined at the very beginning.  \n",
    "\n",
    "With the set of samples $(S=200)$ drawed after burnin period $(T=500)$, we can evaluate $\\theta$ and $\\beta$ by integrating across the full set of samples as follows:\n",
    " \\begin{align}\n",
    " \t\\hat{\\beta_{j}^{(w)}} &= \\frac{n_{j}^{(w)} + \\eta}{n_{j}^{(.)}+V\\eta}\\\\\n",
    " \t\\hat{\\theta_{j}^{(d)}} &= \\frac{\\theta_{j}^{(d)} + \\alpha}{n_{.}^{(d)}+k\\alpha}\n",
    " \\end{align}"
   ]
  },
  {
   "cell_type": "markdown",
   "metadata": {},
   "source": [
    "### 2.3 Criticism for LDA"
   ]
  },
  {
   "cell_type": "markdown",
   "metadata": {},
   "source": [
    "**Experiment**  \n",
    "Due to the duration of running time, we run our model of 2-year NIPS documents (year 2012 and year 2011) and for each document, we extracted the abstract part which summarizes the entire document. Furthermore, we did the NLP preprocessing of the input: removed punctation and the stop words, changed words into lowercase, and stemmed the words with [ntlk](https://www.nltk.org/). We initialize the hyperparameters $\\alpha = 0.1$ and $\\eta = 0.01$. There are nine major academic subject areas for NIPS: *Algorithm*, *Application*, *Data Competition, Implementation and Software*, *Deep Learning*, *Neuroscience and Cognitive science*, *Optimization*, *Probabilistic Methods*, *Reinforcement Learning & Planning*, and *Theory*, therefore we set $k=9$."
   ]
  },
  {
   "cell_type": "code",
   "execution_count": null,
   "metadata": {},
   "outputs": [],
   "source": [
    "datafile = \"../DataPreprocess/nipstxt/nipstoy20/doc_short_wID_12_*.txt\"\n",
    "txt_files = glob.glob(datafile)\n",
    "D = len(txt_files)  # number of documents\n",
    "print(\"number of documents, D: {}\".format(D))\n",
    "\n",
    "N = [0] * D  # words per doc\n",
    "K = 9  # number of topics\n",
    "T = 300 # samples drawn in the burnin period\n",
    "S = 200 # samples collected for collapsed gibbs sampling\n",
    "\n",
    "wordIds = [None] * D\n",
    "count = 0  # count number of documents\n",
    "for file in (txt_files):\n",
    "    with open(file, 'rt', encoding=\"ISO-8859-1\") as f:\n",
    "        wordIds[count] = list(map(int, f.readline().split()))\n",
    "        N[count] = len(wordIds[count])\n",
    "        wordIds[count] = np.array(wordIds[count]).astype('int32')\n",
    "    print(\"load\" + file + \"finished\")\n",
    "    count += 1\n",
    "IdtoWord = {}\n",
    "vocab = set()\n",
    "\n",
    "with open(\"../DataPreprocess/wordToID_short_12_20.txt\") as f:\n",
    "    for line in f:\n",
    "        line = line.split()\n",
    "        IdtoWord[int(line[1])] = line[0]\n",
    "        vocab.add(line[0])\n",
    "V = len(vocab)  # vocabulary size21\n",
    "tokens = [None] * V\n",
    "for key in IdtoWord:\n",
    "    tokens[key] = IdtoWord[key]\n",
    "print(\"vocab size is {}\".format(V))\n",
    "print(\"load wordToI finished\")"
   ]
  },
  {
   "cell_type": "markdown",
   "metadata": {},
   "source": [
    "**PMI Evaluation for Top Words**  [Bouma (2009)](https://svn.spraakdata.gu.se/repos/gerlof/pub/www/Docs/npmi-pfd.pdf)  \n",
    "Pointwise mutual information (PMI) is a measure of how much the actual probability of a particular co-occurrence of events $p(x, y)$ differs from what we would expect it to be on the basis of the probabilities of the individual events $p(x)$ and $p(y)$. Also, the calculation based on the independent assumption of $x$ and $y$ is given as:\n",
    "\\begin{align}\n",
    " \tpmi (x, y) = \\ln \\frac{p(x,y)}{p(x)p(y)}\n",
    "\\end{align} \n",
    "The joint probability is estimated by the time we see both words in a 20-length sliding window over the entire corpus. The results are shown here,"
   ]
  },
  {
   "cell_type": "code",
   "execution_count": null,
   "metadata": {},
   "outputs": [],
   "source": [
    "model = LDA(K, V, D, N)\n",
    "print(\"model constructed\")\n",
    "model.collapsed(wordIds, S, T, tokens)"
   ]
  },
  {
   "cell_type": "code",
   "execution_count": null,
   "metadata": {},
   "outputs": [],
   "source": [
    "print(time.time() - t1)\n",
    "model.getTopWords(wordVec, tokens)\n",
    "print(\"get top words finished\")\n",
    "print(time.time() - t1)\n",
    "comatrix = pickle.load(open(\"DataPreprocess/comatrix1y.pickle\", \"rb\"))\n",
    "model.getPMI(comatrix)\n",
    "print(time.time() - t1)"
   ]
  },
  {
   "cell_type": "markdown",
   "metadata": {},
   "source": [
    "<img src=\"LDA2y_results.jpg\" width=\"950\"/>"
   ]
  },
  {
   "cell_type": "markdown",
   "metadata": {},
   "source": [
    "## 3. Gaussian LDA Model "
   ]
  },
  {
   "cell_type": "markdown",
   "metadata": {},
   "source": [
    "### 3.1 Modeling\n",
    "Instead of generating words from categorical distribution, Gaussian LDA integrates the word embedding that aims at capturing more semantic regularities in language and generates words from multivariate Gaussian distributions. The observed words input are pre-trained word2vec embedding vectors with fixed dimensions [gensim](https://radimrehurek.com/gensim/models/word2vec.html). Our model used 25 dimensional word embeddings instead of the pre-defined 100 dimension due to the feasibility and running time while implementing on Edward.  \n",
    "The likelihood of a corpus $\\mathbf{D}$ contains $D$ documents is given as following:\n",
    "$$\n",
    "p(\\mathbf{D}; \\alpha, \\beta)=\\prod_{k=1}^{K} p(\\Sigma_{k}|\\Psi, v)p(\\mu_{k}|\\mu_{0}, \\Sigma_{k})\\prod_{d=1}^{D} p(\\theta_{d} | \\alpha)(\\prod_{n=1}^{N}p(z_{dn} | \\theta_{d})p(w_{dn} |z_{dn},\\Sigma_{z_{dn},\\mu_{z_{dn}}}))\n",
    "$$"
   ]
  },
  {
   "cell_type": "markdown",
   "metadata": {},
   "source": [
    "** Nodes Decription**  \n",
    "* $ \\psi, v$: Inverse Wishart distribution hyper parameter\t\n",
    "* $\\mu_{0}$: Gaussian distribution hyper parameter\t\n",
    "* $\\Sigma_{z_{dn}}$: global latent variable, per-topic covariance matrix for Multivariate Gaussian distribution of words.\t\n",
    "* $\\mu_{z_{dn}}$: global latent variable, per-topic mean vector for Multivariate Gaussian distribution of words.  \n",
    "\n",
    "** Gaussian-LDA generative process: ** \n",
    "1. For each topic $k \\in \\{1, 2, ..., K\\}$:  \n",
    "    a) Draw topic covariance matrix $\\Sigma_{k} \\sim W^{-1}(\\Psi, v)$  \n",
    "    b) Draw topic mean $\\mu_{k} \\sim N(\\mu_{0}, \\frac{1}{k}\\Sigma_{k})$  \n",
    "2. For each document $d \\in \\{1, 2, ...,D\\}$ in corpus:  \n",
    "    a) Draw topic distribution $\\theta_{d} \\sim Dirichlet (\\alpha)$  \n",
    "    b) For each word $w_{n}$, $n \\in \\{1, 2, ..., N_{d}\\}$ in document $d$:    \n",
    "    * Draw $z_{dn} \\sim Categorical(\\theta_{d})$.  \n",
    "    * Draw word $w_{dn}\\sim N(\\mu_{z_{dn}}, \\Sigma_{z_{dn}})$. "
   ]
  },
  {
   "cell_type": "markdown",
   "metadata": {},
   "source": [
    "<img src=\"GaussianLDA.png\" width=\"400\"/>"
   ]
  },
  {
   "cell_type": "markdown",
   "metadata": {},
   "source": [
    "### 3.2 Black Box Variational Inference for Gaussian LDA  \n",
    "Paper [Das et al. (2015)](http://www.aclweb.org/anthology/P15-1077) provides the Collpased Gibbs Sampling posterior inference method for Gaussian LDA, however the conditional conjugate family of "
   ]
  },
  {
   "cell_type": "markdown",
   "metadata": {},
   "source": [
    "### 3.3 Criticism for Gaussian LDA\n"
   ]
  },
  {
   "cell_type": "code",
   "execution_count": null,
   "metadata": {},
   "outputs": [],
   "source": []
  }
 ],
 "metadata": {
  "kernelspec": {
   "display_name": "probrequire",
   "language": "python",
   "name": "pprequire"
  },
  "language_info": {
   "codemirror_mode": {
    "name": "ipython",
    "version": 3
   },
   "file_extension": ".py",
   "mimetype": "text/x-python",
   "name": "python",
   "nbconvert_exporter": "python",
   "pygments_lexer": "ipython3",
   "version": "3.6.7"
  }
 },
 "nbformat": 4,
 "nbformat_minor": 2
}
