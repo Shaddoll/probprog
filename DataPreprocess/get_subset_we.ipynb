{
 "cells": [
  {
   "cell_type": "code",
   "execution_count": 2,
   "metadata": {},
   "outputs": [
    {
     "name": "stdout",
     "output_type": "stream",
     "text": [
      "632\n"
     ]
    }
   ],
   "source": [
    "vocab_20 = set()\n",
    "with open ('wordToID_short_12_20.txt') as f:\n",
    "    for line in f:\n",
    "        line = line.strip().split()\n",
    "        vocab_20.add(line[0])\n",
    "print (len(vocab_20))"
   ]
  },
  {
   "cell_type": "code",
   "execution_count": 5,
   "metadata": {},
   "outputs": [],
   "source": [
    "we_20 = ''\n",
    "with open ('word_vectors_25.txt') as f:\n",
    "    for line in f:\n",
    "        line = line.strip()\n",
    "        l = line.split()\n",
    "        if l[0] in vocab_20:\n",
    "            we_20 += line\n",
    "            we_20 += '\\n'\n",
    "    with open('we_12_20.txt', 'a') as f2:\n",
    "        f2.write(we_20)  \n",
    "        f2.close()"
   ]
  },
  {
   "cell_type": "code",
   "execution_count": null,
   "metadata": {},
   "outputs": [],
   "source": []
  }
 ],
 "metadata": {
  "kernelspec": {
   "display_name": "Python 3",
   "language": "python",
   "name": "python3"
  },
  "language_info": {
   "codemirror_mode": {
    "name": "ipython",
    "version": 3
   },
   "file_extension": ".py",
   "mimetype": "text/x-python",
   "name": "python",
   "nbconvert_exporter": "python",
   "pygments_lexer": "ipython3",
   "version": "3.6.5"
  }
 },
 "nbformat": 4,
 "nbformat_minor": 2
}
