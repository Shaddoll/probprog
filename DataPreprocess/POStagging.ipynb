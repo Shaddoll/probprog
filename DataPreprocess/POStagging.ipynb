{
 "cells": [
  {
   "cell_type": "code",
   "execution_count": 4,
   "metadata": {},
   "outputs": [],
   "source": [
    "import bs4 as bs\n",
    "import nltk\n",
    "from nltk.tokenize import sent_tokenize\n",
    "import re\n",
    "from nltk.stem import PorterStemmer\n",
    "from nltk.tag import pos_tag\n",
    "from nltk.corpus import stopwords\n",
    "from nltk.corpus import wordnet\n",
    "from nltk.stem import WordNetLemmatizer\n",
    "import glob \n",
    "\n",
    "wordlist=[]\n",
    "with open(\"wordToID.txt\", 'rt',encoding = \"ISO-8859-1\") as f:\n",
    "    for word in f:\n",
    "        wordlist.append(word.split(\" \")[0])"
   ]
  },
  {
   "cell_type": "code",
   "execution_count": 20,
   "metadata": {},
   "outputs": [],
   "source": [
    "pos_tags = nltk.pos_tag(wordlist)\n",
    "posToWords = {}\n",
    "for pairs in pos_tags:\n",
    "    if pairs[1] not in posToWords:\n",
    "        posToWords[pairs[1]] = []\n",
    "        posToWords[pairs[1]].append(pairs[0])\n",
    "    else:\n",
    "        posToWords[pairs[1]].append(pairs[0])\n",
    "    "
   ]
  },
  {
   "cell_type": "code",
   "execution_count": 21,
   "metadata": {},
   "outputs": [],
   "source": [
    "nouns =[]\n",
    "nouns.extend(posToWords[\"NN\"])\n",
    "nouns.extend(posToWords[\"NNS\"])"
   ]
  },
  {
   "cell_type": "code",
   "execution_count": 24,
   "metadata": {},
   "outputs": [],
   "source": [
    "nounToID = {}\n",
    "for i,noun in enumerate(nouns):\n",
    "    nounToID[noun] = i\n",
    "    \n",
    "with open('nounToID', 'a') as f2:\n",
    "    for key, value in nounToID.items():\n",
    "        f2.write(str(key)+' '+str(value)+'\\n')   "
   ]
  },
  {
   "cell_type": "code",
   "execution_count": 26,
   "metadata": {},
   "outputs": [],
   "source": [
    "txt_files_clean = glob.glob(\"nipstxt/nips12/clean_*.txt\")\n",
    "for file in sorted(txt_files_clean):\n",
    "    with open(file, 'rt',encoding = \"ISO-8859-1\") as f:\n",
    "        doc_wordID_short = ''\n",
    "        for line in f:\n",
    "            doc_words = line.split()\n",
    "            for word in doc_words:\n",
    "                if word in nounToID:\n",
    "                    doc_wordID_short += str(nounToID[word])\n",
    "                    doc_wordID_short += ' '\n",
    "        with open('nipstxt/nips12/'+'doc_nounID'+file[-8:-4]+'.txt', 'a') as f2:\n",
    "            f2.write(doc_wordID_short)  \n",
    "            f2.close()"
   ]
  },
  {
   "cell_type": "code",
   "execution_count": 16,
   "metadata": {},
   "outputs": [
    {
     "data": {
      "text/plain": [
       "['jacobians']"
      ]
     },
     "execution_count": 16,
     "metadata": {},
     "output_type": "execute_result"
    }
   ],
   "source": [
    " posToWords[\"NNPS\"]"
   ]
  },
  {
   "cell_type": "code",
   "execution_count": null,
   "metadata": {},
   "outputs": [],
   "source": []
  }
 ],
 "metadata": {
  "kernelspec": {
   "display_name": "Python 3",
   "language": "python",
   "name": "python3"
  },
  "language_info": {
   "codemirror_mode": {
    "name": "ipython",
    "version": 3
   },
   "file_extension": ".py",
   "mimetype": "text/x-python",
   "name": "python",
   "nbconvert_exporter": "python",
   "pygments_lexer": "ipython3",
   "version": "3.6.5"
  }
 },
 "nbformat": 4,
 "nbformat_minor": 2
}
