{
 "cells": [
  {
   "cell_type": "code",
   "execution_count": 1,
   "metadata": {},
   "outputs": [],
   "source": [
    "import bs4 as bs\n",
    "import nltk\n",
    "from nltk.tokenize import sent_tokenize\n",
    "import re\n",
    "from nltk.stem import PorterStemmer\n",
    "from nltk.tag import pos_tag\n",
    "from nltk.corpus import stopwords\n",
    "from nltk.corpus import wordnet\n",
    "from nltk.stem import WordNetLemmatizer\n",
    "\n",
    "# eng_stopwords = stopwords.words('english')\n"
   ]
  },
  {
   "cell_type": "code",
   "execution_count": 2,
   "metadata": {},
   "outputs": [],
   "source": [
    "# specialcase = []\n",
    "# with open('specificase', \"rt\",encoding = \"ISO-8859-1\") as f:\n",
    "#     for word in f:\n",
    "#         specialcase.append(word.split()[0])"
   ]
  },
  {
   "cell_type": "code",
   "execution_count": 3,
   "metadata": {},
   "outputs": [],
   "source": [
    "def doc_cleaner(doc):\n",
    "    '''\n",
    "    Clean and preprocess a document.\n",
    "    \n",
    "    1. Use regex to remove all special characters (only keep letters)\n",
    "    2. Make strings to lower case and tokenize / word split reviews\n",
    "    3. Remove English stopwords\n",
    "    \n",
    "    Return a list of words\n",
    "    '''\n",
    "    doc = re.sub(\"[^a-zA-Z]\", \" \",doc)\n",
    "    doc = doc.lower().split()\n",
    "    eng_stopwords = stopwords.words(\"english\")\n",
    "    for stopword in ['a','b','c','d','e','f','g','h','i','j','k','l','m','n','o','p','q','r','s','t','u','v','w','x','y','z']:\n",
    "        eng_stopwords.append(stopword)\n",
    "    doc = [w for w in doc if not w in eng_stopwords]\n",
    "    ps = PorterStemmer()\n",
    "    ps_stems = []\n",
    "    for word in doc:\n",
    "        ps_stems.append(ps.stem(word))\n",
    "    doc = ' '.join(doc)\n",
    "    \n",
    "    return(doc)"
   ]
  },
  {
   "cell_type": "code",
   "execution_count": 4,
   "metadata": {},
   "outputs": [],
   "source": [
    "## Clean words in each document\n",
    "import glob    \n",
    "txt_files = glob.glob(\"nipstxt/nips12/*.txt\")\n",
    "for file in sorted(txt_files):\n",
    "    doc = []\n",
    "    with open(file, 'rt',encoding = \"ISO-8859-1\") as f:\n",
    "        body = False\n",
    "        for line in f:\n",
    "            line = line.strip()\n",
    "            if line == 'Abstract':\n",
    "                body = True\n",
    "            if line == 'References':\n",
    "                body = False\n",
    "            if body:\n",
    "                if line[-1] == '-':\n",
    "                    line = line.strip('-')\n",
    "                    doc.append(line)\n",
    "                else: \n",
    "                    line = line + ' '\n",
    "                    doc.append(line)\n",
    "    doc = doc_cleaner(\"\".join(doc))\n",
    "    with open('nipstxt/nips12/'+'clean_'+file[-8:-4]+'.txt', 'a') as f2:\n",
    "        f2.write(doc)  \n",
    "        f2.close()"
   ]
  },
  {
   "cell_type": "code",
   "execution_count": null,
   "metadata": {},
   "outputs": [],
   "source": [
    "# nltk.download()"
   ]
  },
  {
   "cell_type": "code",
   "execution_count": null,
   "metadata": {},
   "outputs": [],
   "source": [
    "doc = []\n",
    "with open('/Users/yiranwang/probprog/DataPreprocess/nipstxt/nips12/0003.txt', 'rt',encoding = \"ISO-8859-1\") as f:\n",
    "    body = False\n",
    "    for line in f:\n",
    "        line = line.strip()\n",
    "        if line == 'Abstract':\n",
    "            body = True\n",
    "        if line == 'References':\n",
    "            body = False\n",
    "        if body:\n",
    "            if line[-1] == '-':\n",
    "                line = line.strip('-')\n",
    "                doc.append(line)\n",
    "            else: \n",
    "                line = line + ' '\n",
    "                doc.append(line)\n",
    "#     print (doc)\n",
    "    doc2 = doc_cleaner(\"\".join(doc))\n",
    "    print (doc2)\n",
    "#     print (''.join(doc))\n",
    "\n",
    "#     doc = \"\".join(doc)\n",
    "#     doc = doc_cleaner(doc)\n",
    "#     with open('nipstxt/nips12/'+'clean_'+file[-8:-4]+'.txt', 'a') as f2:\n",
    "#         f2.write(doc)  \n",
    "#         f2.close()\n"
   ]
  },
  {
   "cell_type": "code",
   "execution_count": 5,
   "metadata": {},
   "outputs": [],
   "source": [
    "# Get a vocabulary set that contains uniqe words\n",
    "txt_files_clean = glob.glob(\"nipstxt/nips12/clean_*.txt\")\n",
    "vocabulary = set()\n",
    "for file in sorted(txt_files_clean):\n",
    "    with open(file, 'rt',encoding = \"ISO-8859-1\") as f:\n",
    "        for line in f:\n",
    "            doc_words = line.split()\n",
    "            for word in doc_words:\n",
    "                vocabulary.add(word)\n",
    "id = 0\n",
    "wordToID = {}\n",
    "for key in vocabulary:\n",
    "    wordToID[key] = id\n",
    "    id += 1\n",
    "with open('wordToID', 'a') as f2:\n",
    "    for key, value in wordToID.items():\n",
    "        f2.write(str(key)+' '+str(value)+'\\n')\n"
   ]
  },
  {
   "cell_type": "code",
   "execution_count": 6,
   "metadata": {},
   "outputs": [
    {
     "name": "stdout",
     "output_type": "stream",
     "text": [
      "14001\n"
     ]
    }
   ],
   "source": [
    "print (len(vocabulary))"
   ]
  },
  {
   "cell_type": "code",
   "execution_count": 8,
   "metadata": {},
   "outputs": [],
   "source": [
    "## Change document with word ID \n",
    "for file in sorted(txt_files_clean):\n",
    "    with open(file, 'rt',encoding = \"ISO-8859-1\") as f:\n",
    "        doc_wordID = ''\n",
    "        for line in f:\n",
    "            doc_words = line.split()\n",
    "            for word in doc_words:\n",
    "                doc_wordID += str(wordToID[word])\n",
    "                doc_wordID += ' '\n",
    "        with open('nipstxt/nips12/'+'doc_wordID'+file[-8:-4]+'.txt', 'a') as f2:\n",
    "            f2.write(doc_wordID)  \n",
    "            f2.close()"
   ]
  }
 ],
 "metadata": {
  "kernelspec": {
   "display_name": "Python 3",
   "language": "python",
   "name": "python3"
  },
  "language_info": {
   "codemirror_mode": {
    "name": "ipython",
    "version": 3
   },
   "file_extension": ".py",
   "mimetype": "text/x-python",
   "name": "python",
   "nbconvert_exporter": "python",
   "pygments_lexer": "ipython3",
   "version": "3.6.5"
  }
 },
 "nbformat": 4,
 "nbformat_minor": 2
}
