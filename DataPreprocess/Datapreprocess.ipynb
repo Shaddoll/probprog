{
 "cells": [
  {
   "cell_type": "code",
   "execution_count": 2,
   "metadata": {},
   "outputs": [],
   "source": [
    "import bs4 as bs\n",
    "import nltk\n",
    "from nltk.tokenize import sent_tokenize\n",
    "import re\n",
    "from nltk.stem import PorterStemmer\n",
    "from nltk.tag import pos_tag\n",
    "from nltk.corpus import stopwords\n",
    "from nltk.corpus import wordnet\n",
    "from nltk.stem import WordNetLemmatizer\n",
    "import glob \n",
    "\n",
    "# eng_stopwords = stopwords.words('english')\n"
   ]
  },
  {
   "cell_type": "code",
   "execution_count": null,
   "metadata": {},
   "outputs": [],
   "source": [
    "ps = PorterStemmer()\n",
    "ps.stem(\"provides\")"
   ]
  },
  {
   "cell_type": "code",
   "execution_count": null,
   "metadata": {},
   "outputs": [],
   "source": [
    "# specialcase = []\n",
    "# with open('specificase', \"rt\",encoding = \"ISO-8859-1\") as f:\n",
    "#     for word in f:\n",
    "#         specialcase.append(word.split()[0])"
   ]
  },
  {
   "cell_type": "code",
   "execution_count": null,
   "metadata": {},
   "outputs": [],
   "source": [
    "def doc_cleaner(doc):\n",
    "    '''\n",
    "    Clean and preprocess a document.\n",
    "    \n",
    "    1. Use regex to remove all special characters (only keep letters)\n",
    "    2. Make strings to lower case and tokenize / word split reviews\n",
    "    3. Remove English stopwords\n",
    "    \n",
    "    Return a list of words\n",
    "    '''\n",
    "    doc = re.sub(\"[^a-zA-Z]\", \" \",doc)\n",
    "    doc = doc.lower().split()\n",
    "    eng_stopwords = stopwords.words(\"english\")\n",
    "    for stopword in ['a','b','c','d','e','f','g','h','i','j','k','l','m','n','o','p','q','r','s','t','u','v','w','x','y','z']:\n",
    "        eng_stopwords.append(stopword)\n",
    "    doc = [w for w in doc if not w in eng_stopwords]\n",
    "    ps = PorterStemmer()\n",
    "    ps_stems = []\n",
    "    for word in doc:\n",
    "        ps_stems.append(ps.stem(word))\n",
    "    res = ' '.join(ps_stems)\n",
    "    \n",
    "    return(res)"
   ]
  },
  {
   "cell_type": "code",
   "execution_count": null,
   "metadata": {},
   "outputs": [],
   "source": [
    "## Clean words in each document\n",
    "txt_files = glob.glob(\"nipstxt/nips12/*.txt\")\n",
    "for file in sorted(txt_files):\n",
    "    doc = []\n",
    "    with open(file, 'rt',encoding = \"ISO-8859-1\") as f:\n",
    "        body = False\n",
    "        for line in f:\n",
    "            line = line.strip()\n",
    "            if line == 'Abstract':\n",
    "                body = True\n",
    "            if line == \"References\":\n",
    "                body = False\n",
    "#             if line == '1 Introduction' or line == 'I Introduction':\n",
    "#                 body = False\n",
    "            if body:\n",
    "                if line[-1] == '-':\n",
    "                    line = line.strip('-')\n",
    "                    doc.append(line)\n",
    "                else: \n",
    "                    line = line + ' '\n",
    "                    doc.append(line)\n",
    "    doc = doc_cleaner(\"\".join(doc))\n",
    "    with open('nipstxt/nips12/'+'clean_'+file[-8:-4]+'.txt', 'a') as f2:\n",
    "        f2.write(doc)  \n",
    "        f2.close()"
   ]
  },
  {
   "cell_type": "code",
   "execution_count": null,
   "metadata": {},
   "outputs": [],
   "source": [
    "# nltk.download()"
   ]
  },
  {
   "cell_type": "code",
   "execution_count": null,
   "metadata": {},
   "outputs": [],
   "source": [
    "# Get a vocabulary set that contains uniqe words\n",
    "txt_files_clean = glob.glob(\"nipstxt/nips12/clean_*.txt\")\n",
    "vocabulary = set()\n",
    "for file in sorted(txt_files_clean):\n",
    "    with open(file, 'rt',encoding = \"ISO-8859-1\") as f:\n",
    "        for line in f:\n",
    "            doc_words = line.split()\n",
    "            for word in doc_words:\n",
    "                vocabulary.add(word)\n",
    "id = 0\n",
    "# wordToID = {}\n",
    "wordToID = {}\n",
    "for key in vocabulary:\n",
    "    wordToID[key] = id\n",
    "    id += 1\n",
    "with open('wordToID', 'a') as f2:\n",
    "    for key, value in wordToID.items():\n",
    "        f2.write(str(key)+' '+str(value)+'\\n')\n"
   ]
  },
  {
   "cell_type": "code",
   "execution_count": null,
   "metadata": {},
   "outputs": [],
   "source": [
    "print (len(vocabulary))"
   ]
  },
  {
   "cell_type": "code",
   "execution_count": null,
   "metadata": {},
   "outputs": [],
   "source": [
    "## Change document with word IDs\n",
    "for file in sorted(txt_files_clean):\n",
    "    with open(file, 'rt',encoding = \"ISO-8859-1\") as f:\n",
    "        doc_wordID = ''\n",
    "        for line in f:\n",
    "            doc_words = line.split()\n",
    "            for word in doc_words:\n",
    "                doc_wordID += str(wordToID[word])\n",
    "                doc_wordID += ' '\n",
    "        with open('nipstxt/nips12/'+'doc_wordID'+file[-8:-4]+'.txt', 'a') as f2:\n",
    "            f2.write(doc_wordID)  \n",
    "            f2.close()"
   ]
  },
  {
   "cell_type": "code",
   "execution_count": null,
   "metadata": {},
   "outputs": [],
   "source": [
    "#Create short data files with abstract only\n",
    "for file in sorted(txt_files_clean):\n",
    "    with open(file, 'rt',encoding = \"ISO-8859-1\") as f:\n",
    "        short = \"\"\n",
    "        for line in f:\n",
    "            doc_words = line.split()\n",
    "            append = True\n",
    "            for word in doc_words:\n",
    "                if word == \"introduct\":\n",
    "                    append = False\n",
    "                if append:\n",
    "                    short += word\n",
    "                    short += \" \"\n",
    "        with open('nipstxt/nips12/'+'short_'+file[-8:-4]+'.txt', 'a') as f2:\n",
    "            f2.write(short)\n",
    "            f2.close()\n",
    "            "
   ]
  },
  {
   "cell_type": "code",
   "execution_count": null,
   "metadata": {},
   "outputs": [],
   "source": [
    "txt_files_short = glob.glob(\"nipstxt/nips12/short_*.txt\")\n",
    "vocabulary_short = set()\n",
    "for file in sorted(txt_files_short):\n",
    "    with open(file, 'rt',encoding = \"ISO-8859-1\") as f:\n",
    "        for line in f:\n",
    "            doc_words = line.split()\n",
    "            for word in doc_words:\n",
    "                vocabulary_short.add(word)\n",
    "id = 0\n",
    "# wordToID = {}\n",
    "wordToID_short = {}\n",
    "for key in vocabulary_short:\n",
    "    wordToID_short[key] = id\n",
    "    id += 1\n",
    "with open('wordToID_short', 'a') as f2:\n",
    "    for key, value in wordToID_short.items():\n",
    "        f2.write(str(key)+' '+str(value)+'\\n')\n"
   ]
  },
  {
   "cell_type": "code",
   "execution_count": 4,
   "metadata": {},
   "outputs": [],
   "source": [
    "txt_files_toy = glob.glob(\"nipstxt/nipstoy/short_*.txt\")\n",
    "vocabulary_toy = set()\n",
    "for file in sorted(txt_files_toy):\n",
    "    with open(file, 'rt',encoding = \"ISO-8859-1\") as f:\n",
    "        for line in f:\n",
    "            doc_words = line.split()\n",
    "            for word in doc_words:\n",
    "                vocabulary_toy.add(word)\n",
    "id = 0\n",
    "# wordToID = {}\n",
    "wordToID_toy = {}\n",
    "for key in vocabulary_toy:\n",
    "    wordToID_toy[key] = id\n",
    "    id += 1\n",
    "with open('wordToID_toy', 'a') as f2:\n",
    "    for key, value in wordToID_toy.items():\n",
    "        f2.write(str(key)+' '+str(value)+'\\n')"
   ]
  },
  {
   "cell_type": "code",
   "execution_count": 5,
   "metadata": {},
   "outputs": [
    {
     "name": "stdout",
     "output_type": "stream",
     "text": [
      "1043\n"
     ]
    }
   ],
   "source": [
    "print (len(vocabulary_toy))"
   ]
  },
  {
   "cell_type": "code",
   "execution_count": 6,
   "metadata": {},
   "outputs": [],
   "source": [
    "## Change toy document with word IDs\n",
    "for file in sorted(txt_files_toy):\n",
    "    with open(file, 'rt',encoding = \"ISO-8859-1\") as f:\n",
    "        doc_wordID_toy = ''\n",
    "        for line in f:\n",
    "            doc_words = line.split()\n",
    "            for word in doc_words:\n",
    "                doc_wordID_toy += str(wordToID_toy[word])\n",
    "                doc_wordID_toy += ' '\n",
    "        with open('nipstxt/nipstoy/'+'short_wordID'+file[-8:-4]+'.txt', 'a') as f2:\n",
    "            f2.write(doc_wordID_toy)  \n",
    "            f2.close()"
   ]
  },
  {
   "cell_type": "code",
   "execution_count": 7,
   "metadata": {},
   "outputs": [
    {
     "name": "stdout",
     "output_type": "stream",
     "text": [
      "nipstxt/nipstoy/short_0003.txt\n",
      "102\n",
      "nipstxt/nipstoy/short_0010.txt\n",
      "85\n",
      "nipstxt/nipstoy/short_0017.txt\n",
      "77\n",
      "nipstxt/nipstoy/short_0024.txt\n",
      "45\n",
      "nipstxt/nipstoy/short_0031.txt\n",
      "76\n",
      "nipstxt/nipstoy/short_0038.txt\n",
      "78\n",
      "nipstxt/nipstoy/short_0045.txt\n",
      "73\n",
      "nipstxt/nipstoy/short_0052.txt\n",
      "48\n",
      "nipstxt/nipstoy/short_0059.txt\n",
      "59\n",
      "nipstxt/nipstoy/short_0066.txt\n",
      "66\n",
      "nipstxt/nipstoy/short_0073.txt\n",
      "57\n",
      "nipstxt/nipstoy/short_0080.txt\n",
      "75\n",
      "nipstxt/nipstoy/short_0089.txt\n",
      "93\n",
      "nipstxt/nipstoy/short_0096.txt\n",
      "105\n",
      "nipstxt/nipstoy/short_0103.txt\n",
      "42\n",
      "nipstxt/nipstoy/short_0108.txt\n",
      "67\n",
      "nipstxt/nipstoy/short_0115.txt\n",
      "39\n",
      "nipstxt/nipstoy/short_0122.txt\n",
      "43\n",
      "nipstxt/nipstoy/short_0129.txt\n",
      "79\n",
      "nipstxt/nipstoy/short_0136.txt\n",
      "76\n",
      "nipstxt/nipstoy/short_0143.txt\n",
      "95\n",
      "nipstxt/nipstoy/short_0150.txt\n",
      "48\n",
      "nipstxt/nipstoy/short_0157.txt\n",
      "148\n",
      "nipstxt/nipstoy/short_0164.txt\n",
      "112\n",
      "nipstxt/nipstoy/short_0171.txt\n",
      "42\n",
      "nipstxt/nipstoy/short_0178.txt\n",
      "110\n",
      "nipstxt/nipstoy/short_0185.txt\n",
      "118\n",
      "nipstxt/nipstoy/short_0192.txt\n",
      "81\n",
      "nipstxt/nipstoy/short_0199.txt\n",
      "56\n",
      "nipstxt/nipstoy/short_0209.txt\n",
      "73\n",
      "nipstxt/nipstoy/short_0216.txt\n",
      "64\n",
      "nipstxt/nipstoy/short_0223.txt\n",
      "55\n",
      "nipstxt/nipstoy/short_0230.txt\n",
      "32\n",
      "nipstxt/nipstoy/short_0237.txt\n",
      "39\n",
      "nipstxt/nipstoy/short_0244.txt\n",
      "72\n",
      "nipstxt/nipstoy/short_0251.txt\n",
      "54\n",
      "nipstxt/nipstoy/short_0258.txt\n",
      "64\n",
      "nipstxt/nipstoy/short_0265.txt\n",
      "65\n",
      "nipstxt/nipstoy/short_0272.txt\n",
      "78\n",
      "nipstxt/nipstoy/short_0279.txt\n",
      "76\n",
      "nipstxt/nipstoy/short_0286.txt\n",
      "56\n",
      "nipstxt/nipstoy/short_0293.txt\n",
      "150\n",
      "nipstxt/nipstoy/short_0300.txt\n",
      "65\n",
      "nipstxt/nipstoy/short_0307.txt\n",
      "61\n",
      "nipstxt/nipstoy/short_0314.txt\n",
      "60\n",
      "nipstxt/nipstoy/short_0321.txt\n",
      "45\n",
      "nipstxt/nipstoy/short_0328.txt\n",
      "47\n",
      "nipstxt/nipstoy/short_0335.txt\n",
      "64\n",
      "nipstxt/nipstoy/short_0342.txt\n",
      "50\n",
      "nipstxt/nipstoy/short_0349.txt\n",
      "76\n"
     ]
    }
   ],
   "source": [
    "for file in sorted(txt_files_toy):\n",
    "    with open(file, 'rt',encoding = \"ISO-8859-1\") as f:\n",
    "        for line in f:\n",
    "            print (file)\n",
    "            print (len(line.split()))"
   ]
  },
  {
   "cell_type": "code",
   "execution_count": null,
   "metadata": {},
   "outputs": [],
   "source": []
  }
 ],
 "metadata": {
  "kernelspec": {
   "display_name": "Python 3",
   "language": "python",
   "name": "python3"
  },
  "language_info": {
   "codemirror_mode": {
    "name": "ipython",
    "version": 3
   },
   "file_extension": ".py",
   "mimetype": "text/x-python",
   "name": "python",
   "nbconvert_exporter": "python",
   "pygments_lexer": "ipython3",
   "version": "3.6.5"
  }
 },
 "nbformat": 4,
 "nbformat_minor": 2
}
