{
 "cells": [
  {
   "cell_type": "code",
   "execution_count": 2,
   "metadata": {},
   "outputs": [],
   "source": [
    "import bs4 as bs\n",
    "import nltk\n",
    "from nltk.tokenize import sent_tokenize\n",
    "import re\n",
    "from nltk.stem import PorterStemmer\n",
    "from nltk.tag import pos_tag\n",
    "from nltk.corpus import stopwords\n",
    "from nltk.corpus import wordnet\n",
    "from nltk.stem import WordNetLemmatizer\n",
    "import glob   "
   ]
  },
  {
   "cell_type": "code",
   "execution_count": null,
   "metadata": {},
   "outputs": [],
   "source": [
    "def doc_cleaner(doc):\n",
    "    '''\n",
    "    Clean and preprocess a document.\n",
    "    \n",
    "    1. Use regex to remove all special characters (only keep letters)\n",
    "    2. Make strings to lower case and tokenize / word split reviews\n",
    "    3. Remove English stopwords\n",
    "    \n",
    "    Return a list of words\n",
    "    '''\n",
    "    doc = re.sub(\"[^a-zA-Z]\", \" \",doc)\n",
    "    doc = doc.lower().split()\n",
    "    eng_stopwords = stopwords.words(\"english\")\n",
    "    for stopword in ['a','b','c','d','e','f','g','h','i','j','k','l','m','n','o','p','q','r','s','t','u','v','w','x','y','z']:\n",
    "        eng_stopwords.append(stopword)\n",
    "    doc = [w for w in doc if not w in eng_stopwords]\n",
    "    ps = PorterStemmer()\n",
    "    ps_stems = []\n",
    "    for word in doc:\n",
    "        ps_stems.append(ps.stem(word))\n",
    "    res = ' '.join(ps_stems)\n",
    "    \n",
    "    return(res)"
   ]
  },
  {
   "cell_type": "code",
   "execution_count": null,
   "metadata": {},
   "outputs": [],
   "source": [
    "## Clean words in each document\n",
    "txt_files = glob.glob(\"nips1y/*.txt\")\n",
    "# txt_files = glob.glob(\"nips08/*.txt\")\n",
    "for file in sorted(txt_files):\n",
    "    doc = []\n",
    "    with open(file, 'rt',encoding = \"ISO-8859-1\") as f:\n",
    "        body = False\n",
    "        for line in f:\n",
    "            line = line.strip()\n",
    "            if line == 'Abstract':\n",
    "                body = True \n",
    "#             if line == \"I Introduction\" or line==\"1 INTRODUCTION\" or line==\"1 Introduction\" or line==\"1 Background\" or line==\"I INTRODUCTION\" or line==\"i Introduction\":\n",
    "            if line == \"Reference\":\n",
    "                body = False\n",
    "            if body:\n",
    "                if line[-1] == '-':\n",
    "                    line = line.strip('-')\n",
    "                    doc.append(line)\n",
    "                else: \n",
    "                    line = line + ' '\n",
    "                    doc.append(line)\n",
    "    doc = doc_cleaner(\"\".join(doc))\n",
    "#     with open('nips3yabs/'+'short_12_'+file[-8:-4]+'.txt', 'a') as f2:\n",
    "    with open('nips2y/'+'clean_12_'+file[-8:-4]+'.txt', 'a') as f2:\n",
    "        f2.write(doc)  \n",
    "        f2.close()"
   ]
  },
  {
   "cell_type": "code",
   "execution_count": null,
   "metadata": {},
   "outputs": [],
   "source": [
    "txt_files_clean = glob.glob(\"nipstxt/nips12/short_*.txt\")\n",
    "for file in sorted(txt_files_clean):\n",
    "    with open(file, 'rt',encoding = \"ISO-8859-1\") as f:\n",
    "        for line in f:\n",
    "            doc_words = line.split()\n",
    "            if len(doc_words)>300:\n",
    "                print(file)"
   ]
  },
  {
   "cell_type": "code",
   "execution_count": null,
   "metadata": {},
   "outputs": [],
   "source": [
    "# nltk.download()"
   ]
  },
  {
   "cell_type": "code",
   "execution_count": 3,
   "metadata": {},
   "outputs": [],
   "source": [
    "# Generate a vocabulary set that contains unique words\n",
    "# txt_files_clean = glob.glob(\"nipstxt/nips12/clean_*.txt\")\n",
    "txt_files_clean = glob.glob(\"nips2yabs/short_*.txt\")\n",
    "vocabulary = set()\n",
    "for file in sorted(txt_files_clean):\n",
    "    with open(file, 'rt',encoding = \"ISO-8859-1\") as f:\n",
    "        for line in f:\n",
    "            doc_words = line.split()\n",
    "            for word in doc_words:\n",
    "                vocabulary.add(word)\n",
    "id = 0\n",
    "wordToID = {}\n",
    "for key in vocabulary:\n",
    "    wordToID[key] = id\n",
    "    id += 1\n",
    "# with open('wordToID_3y.txt', 'a') as f2:\n",
    "#     for key, value in wordToID.items():\n",
    "#         f2.write(str(key)+' '+str(value)+'\\n')\n"
   ]
  },
  {
   "cell_type": "code",
   "execution_count": null,
   "metadata": {},
   "outputs": [],
   "source": [
    "print (len(vocabulary))"
   ]
  },
  {
   "cell_type": "code",
   "execution_count": 5,
   "metadata": {},
   "outputs": [],
   "source": [
    "## Change document with word IDs\n",
    "txt_files_clean_2 = glob.glob(\"nips2y/clean_*.txt\")\n",
    "for file in sorted(txt_files_clean_2):\n",
    "    with open(file, 'rt',encoding = \"ISO-8859-1\") as f:\n",
    "        doc_wordID = ''\n",
    "        for line in f:\n",
    "            doc_words = line.split()\n",
    "            for word in doc_words:\n",
    "                if word in wordToID:\n",
    "                    doc_wordID += str(wordToID[word])\n",
    "                    doc_wordID += ' '\n",
    "                else:\n",
    "                    doc_wordID += 'n'\n",
    "                    doc_wordID += ' '\n",
    "#         with open('nipstxt/nips12/'+'doc_wordID'+file[-8:-4]+'.txt', 'a') as f2:\n",
    "        with open('nips2y/'+'doc_clean_wID'+file[-11:-4]+'.txt', 'a') as f2:\n",
    "            f2.write(doc_wordID)  \n",
    "            f2.close()"
   ]
  },
  {
   "cell_type": "code",
   "execution_count": null,
   "metadata": {},
   "outputs": [],
   "source": [
    "# txt_files_short= glob.glob(\"nipstxt/nipstoy50/short_*.txt\")\n",
    "# txt_files_short= glob.glob(\"nipstxt/nipstoy20/short_*.txt\")\n",
    "txt_files_short= glob.glob(\"nipstxt/nips12/short_*.txt\")\n",
    "vocabulary_short = set()\n",
    "for file in sorted(txt_files_short):\n",
    "    with open(file, 'rt',encoding = \"ISO-8859-1\") as f:\n",
    "        for line in f:\n",
    "            doc_words_short = line.split()\n",
    "            for word in doc_words_short:\n",
    "                vocabulary_short.add(word)\n",
    "id = 0\n",
    "# wordToID = {}\n",
    "wordToID_short = {}\n",
    "for key in vocabulary_short:\n",
    "    wordToID_short[key] = id\n",
    "    id += 1\n",
    "# with open('wordToID_short_50', 'a') as f2:\n",
    "with open('wordToID_short_12.txt', 'a') as f2:\n",
    "    for key, value in wordToID_short.items():\n",
    "        f2.write(str(key)+' '+str(value)+'\\n')\n"
   ]
  },
  {
   "cell_type": "code",
   "execution_count": null,
   "metadata": {},
   "outputs": [],
   "source": [
    "len(vocabulary_short)"
   ]
  },
  {
   "cell_type": "code",
   "execution_count": null,
   "metadata": {},
   "outputs": [],
   "source": [
    "## Change short document with word IDs\n",
    "for file in sorted(txt_files_short):\n",
    "    with open(file, 'rt',encoding = \"ISO-8859-1\") as f:\n",
    "        doc_wordID_short = ''\n",
    "        for line in f:\n",
    "            doc_words = line.split()\n",
    "            for word in doc_words:\n",
    "                doc_wordID_short += str(wordToID_short[word])\n",
    "                doc_wordID_short += ' '\n",
    "        with open('nipstxt/nips12/'+'doc_short_wID_12_'+file[-8:-4]+'.txt', 'a') as f2:\n",
    "            f2.write(doc_wordID_short)  \n",
    "            f2.close()"
   ]
  },
  {
   "cell_type": "code",
   "execution_count": null,
   "metadata": {},
   "outputs": [],
   "source": []
  }
 ],
 "metadata": {
  "kernelspec": {
   "display_name": "Python 3",
   "language": "python",
   "name": "python3"
  },
  "language_info": {
   "codemirror_mode": {
    "name": "ipython",
    "version": 3
   },
   "file_extension": ".py",
   "mimetype": "text/x-python",
   "name": "python",
   "nbconvert_exporter": "python",
   "pygments_lexer": "ipython3",
   "version": "3.6.5"
  }
 },
 "nbformat": 4,
 "nbformat_minor": 2
}
